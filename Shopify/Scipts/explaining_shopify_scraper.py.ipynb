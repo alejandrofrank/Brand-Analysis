{
 "cells": [
  {
   "cell_type": "markdown",
   "metadata": {},
   "source": [
    "### Imports"
   ]
  },
  {
   "cell_type": "markdown",
   "metadata": {},
   "source": [
    "For this scraper we will be using requests only and not beautifulsoup since shopify stores have a very clear json structure when you add parameters to the url as said in the documentation \"https://shopify.dev/docs/admin-api/rest/reference/products/product\""
   ]
  },
  {
   "cell_type": "code",
   "execution_count": 1,
   "metadata": {},
   "outputs": [],
   "source": [
    "import requests #Scraping import\n",
    "import json #We will be working with json files \n",
    "import pandas as pd #Storing and loading the data as a dataframe/csv type\n",
    "import numpy as np #Useful in almost every project\n",
    "import time #Resting time for looping and requesting\n",
    "import sqlalchemy #SQL Database connector\n",
    "from sqlalchemy import create_engine\n",
    "import config #Database credentials\n",
    "\n",
    "import warnings\n",
    "warnings.filterwarnings('ignore')\n",
    "\n",
    "pd.options.display.max_columns = 300\n",
    "pd.options.display.max_rows = 300\n",
    "pd.options.display.max_colwidth = 400"
   ]
  },
  {
   "cell_type": "markdown",
   "metadata": {},
   "source": [
    "### Set up"
   ]
  },
  {
   "cell_type": "markdown",
   "metadata": {},
   "source": [
    "Let's define a list with each url we will be scraping. In this list we will include the following brand:\n",
    "- Scalpers\n",
    "- Edmmond\n",
    "- Pompeii\n",
    "- Muroexe\n",
    "- Brubaker\n",
    "- Barner\n",
    "- Alohas\n",
    "\n",
    "What these brand have in common is that they all belong to the retail/fashion industry so it makes it easier for us to relate the products in some way."
   ]
  },
  {
   "cell_type": "code",
   "execution_count": 2,
   "metadata": {},
   "outputs": [],
   "source": [
    "urls = ['https://scalperscompany.com',\n",
    "        'https://edmmond.com',\n",
    "        'https://www.pompeiibrand.com',\n",
    "        'https://es.muroexe.com',\n",
    "        'https://thebrubaker.com',\n",
    "        'https://barnerbrand.com',\n",
    "        'https://www.alohas.io']"
   ]
  },
  {
   "cell_type": "markdown",
   "metadata": {},
   "source": [
    "Add the pagination url to scrape only the products"
   ]
  },
  {
   "cell_type": "code",
   "execution_count": 3,
   "metadata": {},
   "outputs": [],
   "source": [
    "shopify_products_url = 'products.json?limit=500&page=1'"
   ]
  },
  {
   "cell_type": "markdown",
   "metadata": {},
   "source": [
    "We will be saving all the scraped data as a tabular format in a SQL DB, for that, we define all the credentials of the DB using a config file and set up the connection with SqlAlchemy's create_engine function"
   ]
  },
  {
   "cell_type": "code",
   "execution_count": 4,
   "metadata": {},
   "outputs": [],
   "source": [
    "dbtype = config.database_new['dbtype']\n",
    "user = config.database_new['user']\n",
    "password = config.database_new['password']\n",
    "ip = config.database_new['ip']\n",
    "port = config.database_new['port']\n",
    "name = config.database_new['name']\n",
    "\n",
    "engine = create_engine(f'{dbtype}://{user}:{password}@{ip}:{port}/{name}')\n",
    "\n",
    "product_list = []"
   ]
  },
  {
   "cell_type": "markdown",
   "metadata": {},
   "source": [
    "Scraping the data. Using the \"get\" function from the request module we will be able to get a json file from the website."
   ]
  },
  {
   "cell_type": "code",
   "execution_count": 5,
   "metadata": {
    "scrolled": false
   },
   "outputs": [
    {
     "name": "stdout",
     "output_type": "stream",
     "text": [
      "id\n",
      "title\n",
      "handle\n",
      "body_html\n",
      "published_at\n",
      "created_at\n",
      "updated_at\n",
      "vendor\n",
      "product_type\n",
      "tags\n",
      "variants\n",
      "images\n",
      "options\n"
     ]
    },
    {
     "data": {
      "text/plain": [
       "{'id': 4799506513981,\n",
       " 'title': 'CAMISETA HALLOWEEN FOSFORESCENTE',\n",
       " 'handle': '28060-scary-skull-tee-kids-aw2021-grey',\n",
       " 'body_html': 'Camiseta confeccionada en tejido 100% algodón orgánico. Corte Regular Fit, cuello redondo y manga corta. Detalle de print de calavera fosforescente en la oscuridad.',\n",
       " 'published_at': '2020-10-23T14:21:05+02:00',\n",
       " 'created_at': '2020-09-17T12:27:50+02:00',\n",
       " 'updated_at': '2020-10-25T18:22:00+01:00',\n",
       " 'vendor': 'scalperscompany',\n",
       " 'product_type': 'Camiseta',\n",
       " 'tags': ['28060',\n",
       "  'AW2021',\n",
       "  'Camisetas',\n",
       "  'feed-cl2-aw2021',\n",
       "  'Infantil',\n",
       "  'Niño',\n",
       "  'nopromociones',\n",
       "  'Nueva Colección',\n",
       "  'Ropa',\n",
       "  'scaryskullteekids',\n",
       "  'Talla Superior_10',\n",
       "  'Talla Superior_12',\n",
       "  'Talla Superior_14',\n",
       "  'Talla Superior_4',\n",
       "  'Talla Superior_6',\n",
       "  'Talla Superior_8'],\n",
       " 'variants': [{'id': 32870380732477,\n",
       "   'title': 'GREY / 4',\n",
       "   'option1': 'GREY',\n",
       "   'option2': '4',\n",
       "   'option3': None,\n",
       "   'sku': '8445279061574',\n",
       "   'requires_shipping': True,\n",
       "   'taxable': True,\n",
       "   'featured_image': {'id': 16520551497789,\n",
       "    'product_id': 4799506513981,\n",
       "    'position': 1,\n",
       "    'created_at': '2020-10-20T12:53:23+02:00',\n",
       "    'updated_at': '2020-10-20T12:53:41+02:00',\n",
       "    'alt': None,\n",
       "    'width': 3448,\n",
       "    'height': 4964,\n",
       "    'src': 'https://cdn.shopify.com/s/files/1/0015/0942/5197/products/28060-GREY-1.jpg?v=1603191221',\n",
       "    'variant_ids': [32870380732477,\n",
       "     32870380830781,\n",
       "     32870380896317,\n",
       "     32870380961853,\n",
       "     32870381027389,\n",
       "     32870381092925]},\n",
       "   'available': True,\n",
       "   'price': '19.90',\n",
       "   'grams': 0,\n",
       "   'compare_at_price': '19.90',\n",
       "   'position': 1,\n",
       "   'product_id': 4799506513981,\n",
       "   'created_at': '2020-09-17T12:27:50+02:00',\n",
       "   'updated_at': '2020-10-24T02:31:57+02:00'},\n",
       "  {'id': 32870380830781,\n",
       "   'title': 'GREY / 6',\n",
       "   'option1': 'GREY',\n",
       "   'option2': '6',\n",
       "   'option3': None,\n",
       "   'sku': '8445279061581',\n",
       "   'requires_shipping': True,\n",
       "   'taxable': True,\n",
       "   'featured_image': {'id': 16520551497789,\n",
       "    'product_id': 4799506513981,\n",
       "    'position': 1,\n",
       "    'created_at': '2020-10-20T12:53:23+02:00',\n",
       "    'updated_at': '2020-10-20T12:53:41+02:00',\n",
       "    'alt': None,\n",
       "    'width': 3448,\n",
       "    'height': 4964,\n",
       "    'src': 'https://cdn.shopify.com/s/files/1/0015/0942/5197/products/28060-GREY-1.jpg?v=1603191221',\n",
       "    'variant_ids': [32870380732477,\n",
       "     32870380830781,\n",
       "     32870380896317,\n",
       "     32870380961853,\n",
       "     32870381027389,\n",
       "     32870381092925]},\n",
       "   'available': True,\n",
       "   'price': '19.90',\n",
       "   'grams': 0,\n",
       "   'compare_at_price': '19.90',\n",
       "   'position': 2,\n",
       "   'product_id': 4799506513981,\n",
       "   'created_at': '2020-09-17T12:27:50+02:00',\n",
       "   'updated_at': '2020-10-25T13:07:13+01:00'},\n",
       "  {'id': 32870380896317,\n",
       "   'title': 'GREY / 8',\n",
       "   'option1': 'GREY',\n",
       "   'option2': '8',\n",
       "   'option3': None,\n",
       "   'sku': '8445279061598',\n",
       "   'requires_shipping': True,\n",
       "   'taxable': True,\n",
       "   'featured_image': {'id': 16520551497789,\n",
       "    'product_id': 4799506513981,\n",
       "    'position': 1,\n",
       "    'created_at': '2020-10-20T12:53:23+02:00',\n",
       "    'updated_at': '2020-10-20T12:53:41+02:00',\n",
       "    'alt': None,\n",
       "    'width': 3448,\n",
       "    'height': 4964,\n",
       "    'src': 'https://cdn.shopify.com/s/files/1/0015/0942/5197/products/28060-GREY-1.jpg?v=1603191221',\n",
       "    'variant_ids': [32870380732477,\n",
       "     32870380830781,\n",
       "     32870380896317,\n",
       "     32870380961853,\n",
       "     32870381027389,\n",
       "     32870381092925]},\n",
       "   'available': True,\n",
       "   'price': '19.90',\n",
       "   'grams': 0,\n",
       "   'compare_at_price': '19.90',\n",
       "   'position': 3,\n",
       "   'product_id': 4799506513981,\n",
       "   'created_at': '2020-09-17T12:27:50+02:00',\n",
       "   'updated_at': '2020-10-25T17:57:11+01:00'},\n",
       "  {'id': 32870380961853,\n",
       "   'title': 'GREY / 10',\n",
       "   'option1': 'GREY',\n",
       "   'option2': '10',\n",
       "   'option3': None,\n",
       "   'sku': '8445279061604',\n",
       "   'requires_shipping': True,\n",
       "   'taxable': True,\n",
       "   'featured_image': {'id': 16520551497789,\n",
       "    'product_id': 4799506513981,\n",
       "    'position': 1,\n",
       "    'created_at': '2020-10-20T12:53:23+02:00',\n",
       "    'updated_at': '2020-10-20T12:53:41+02:00',\n",
       "    'alt': None,\n",
       "    'width': 3448,\n",
       "    'height': 4964,\n",
       "    'src': 'https://cdn.shopify.com/s/files/1/0015/0942/5197/products/28060-GREY-1.jpg?v=1603191221',\n",
       "    'variant_ids': [32870380732477,\n",
       "     32870380830781,\n",
       "     32870380896317,\n",
       "     32870380961853,\n",
       "     32870381027389,\n",
       "     32870381092925]},\n",
       "   'available': True,\n",
       "   'price': '19.90',\n",
       "   'grams': 0,\n",
       "   'compare_at_price': '19.90',\n",
       "   'position': 4,\n",
       "   'product_id': 4799506513981,\n",
       "   'created_at': '2020-09-17T12:27:50+02:00',\n",
       "   'updated_at': '2020-10-25T17:08:06+01:00'},\n",
       "  {'id': 32870381027389,\n",
       "   'title': 'GREY / 12',\n",
       "   'option1': 'GREY',\n",
       "   'option2': '12',\n",
       "   'option3': None,\n",
       "   'sku': '8445279061611',\n",
       "   'requires_shipping': True,\n",
       "   'taxable': True,\n",
       "   'featured_image': {'id': 16520551497789,\n",
       "    'product_id': 4799506513981,\n",
       "    'position': 1,\n",
       "    'created_at': '2020-10-20T12:53:23+02:00',\n",
       "    'updated_at': '2020-10-20T12:53:41+02:00',\n",
       "    'alt': None,\n",
       "    'width': 3448,\n",
       "    'height': 4964,\n",
       "    'src': 'https://cdn.shopify.com/s/files/1/0015/0942/5197/products/28060-GREY-1.jpg?v=1603191221',\n",
       "    'variant_ids': [32870380732477,\n",
       "     32870380830781,\n",
       "     32870380896317,\n",
       "     32870380961853,\n",
       "     32870381027389,\n",
       "     32870381092925]},\n",
       "   'available': True,\n",
       "   'price': '19.90',\n",
       "   'grams': 0,\n",
       "   'compare_at_price': '19.90',\n",
       "   'position': 5,\n",
       "   'product_id': 4799506513981,\n",
       "   'created_at': '2020-09-17T12:27:50+02:00',\n",
       "   'updated_at': '2020-10-25T18:16:03+01:00'},\n",
       "  {'id': 32870381092925,\n",
       "   'title': 'GREY / 14',\n",
       "   'option1': 'GREY',\n",
       "   'option2': '14',\n",
       "   'option3': None,\n",
       "   'sku': '8445279061628',\n",
       "   'requires_shipping': True,\n",
       "   'taxable': True,\n",
       "   'featured_image': {'id': 16520551497789,\n",
       "    'product_id': 4799506513981,\n",
       "    'position': 1,\n",
       "    'created_at': '2020-10-20T12:53:23+02:00',\n",
       "    'updated_at': '2020-10-20T12:53:41+02:00',\n",
       "    'alt': None,\n",
       "    'width': 3448,\n",
       "    'height': 4964,\n",
       "    'src': 'https://cdn.shopify.com/s/files/1/0015/0942/5197/products/28060-GREY-1.jpg?v=1603191221',\n",
       "    'variant_ids': [32870380732477,\n",
       "     32870380830781,\n",
       "     32870380896317,\n",
       "     32870380961853,\n",
       "     32870381027389,\n",
       "     32870381092925]},\n",
       "   'available': True,\n",
       "   'price': '19.90',\n",
       "   'grams': 0,\n",
       "   'compare_at_price': '19.90',\n",
       "   'position': 6,\n",
       "   'product_id': 4799506513981,\n",
       "   'created_at': '2020-09-17T12:27:50+02:00',\n",
       "   'updated_at': '2020-10-24T02:31:51+02:00'}],\n",
       " 'images': [{'id': 16520551497789,\n",
       "   'created_at': '2020-10-20T12:53:23+02:00',\n",
       "   'position': 1,\n",
       "   'updated_at': '2020-10-20T12:53:41+02:00',\n",
       "   'product_id': 4799506513981,\n",
       "   'variant_ids': [32870380732477,\n",
       "    32870380830781,\n",
       "    32870380896317,\n",
       "    32870380961853,\n",
       "    32870381027389,\n",
       "    32870381092925],\n",
       "   'src': 'https://cdn.shopify.com/s/files/1/0015/0942/5197/products/28060-GREY-1.jpg?v=1603191221',\n",
       "   'width': 3448,\n",
       "   'height': 4964},\n",
       "  {'id': 16526927691837,\n",
       "   'created_at': '2020-10-22T12:46:50+02:00',\n",
       "   'position': 2,\n",
       "   'updated_at': '2020-10-23T09:14:48+02:00',\n",
       "   'product_id': 4799506513981,\n",
       "   'variant_ids': [],\n",
       "   'src': 'https://cdn.shopify.com/s/files/1/0015/0942/5197/products/28060-GREY-S_258d75fc-740e-4b1a-8548-244ba68c8b59.jpg?v=1603437288',\n",
       "   'width': 1524,\n",
       "   'height': 2200},\n",
       "  {'id': 16520551465021,\n",
       "   'created_at': '2020-10-20T12:53:22+02:00',\n",
       "   'position': 3,\n",
       "   'updated_at': '2020-10-23T09:14:48+02:00',\n",
       "   'product_id': 4799506513981,\n",
       "   'variant_ids': [],\n",
       "   'src': 'https://cdn.shopify.com/s/files/1/0015/0942/5197/products/28060-GREY-3.jpg?v=1603437288',\n",
       "   'width': 1638,\n",
       "   'height': 2358},\n",
       "  {'id': 16520551432253,\n",
       "   'created_at': '2020-10-20T12:53:22+02:00',\n",
       "   'position': 4,\n",
       "   'updated_at': '2020-10-23T09:14:48+02:00',\n",
       "   'product_id': 4799506513981,\n",
       "   'variant_ids': [],\n",
       "   'src': 'https://cdn.shopify.com/s/files/1/0015/0942/5197/products/28060-GREY-2.jpg?v=1603437288',\n",
       "   'width': 1638,\n",
       "   'height': 2358},\n",
       "  {'id': 16521249947709,\n",
       "   'created_at': '2020-10-20T16:02:20+02:00',\n",
       "   'position': 5,\n",
       "   'updated_at': '2020-10-23T09:14:48+02:00',\n",
       "   'product_id': 4799506513981,\n",
       "   'variant_ids': [],\n",
       "   'src': 'https://cdn.shopify.com/s/files/1/0015/0942/5197/products/28060-GREY-S.jpg?v=1603437288',\n",
       "   'width': 1524,\n",
       "   'height': 2200}],\n",
       " 'options': [{'name': 'Color', 'position': 1, 'values': ['GREY']},\n",
       "  {'name': 'Talla',\n",
       "   'position': 2,\n",
       "   'values': ['4', '6', '8', '10', '12', '14']}]}"
      ]
     },
     "metadata": {},
     "output_type": "display_data"
    }
   ],
   "source": [
    "r = requests.get(f'{urls[0]}/{shopify_products_url}')\n",
    "data = r.json()\n",
    "for x in data['products'][0]:\n",
    "    print(x)\n",
    "display(data['products'][0])"
   ]
  },
  {
   "cell_type": "markdown",
   "metadata": {},
   "source": [
    "So looking at the info of this product, there is a lot of things that can be useful for a lot of stuff.\n",
    "- The title is definately useful\n",
    "- handle is not useful since it's a variable that comes from the title. \"A unique human-friendly string for the product. Automatically generated from the product's title. Used by the Liquid templating language to refer to objects.\" - Shopify Docu.\n",
    "- Ids are always useful, maybe in the future we will not use the title and only use the id, plus it is good practice to keep just in case you have other tables and want to merge and all.\n",
    "- We will not be using body html, can't think of one useful thing to do with a html body in data science haha.\n",
    "- The three dates, we will be keeping created_at and updated_at. One refers to well, the created time of the article and the other refers to the date and time (ISO 8601 format) when the product was last modified.\n",
    "- From the variant property we will be keeping a lot of thing. The price, the sku, the availability boolean, if it requires shipping or not and the position (The position in ecommerce generally refers to the order in which an item is displayed in the store, not in this case. It means the position of the variant in which it is displayed inside the item).\n",
    "\n",
    "Now that we know what we will be using, lets just make a for loop to iterate through all the urls in the url list for the code to run for each link. We will append all the results to an empty list defined outside of the for loop"
   ]
  },
  {
   "cell_type": "code",
   "execution_count": 6,
   "metadata": {},
   "outputs": [],
   "source": [
    "def get_data(): \n",
    "    '''\n",
    "    This function returns a dictionary that contains a list products scraped from a website.\n",
    "    '''\n",
    "    r = requests.get(f'{urls[i]}/{shopify_products_url}')\n",
    "    data = r.json()\n",
    "    return data"
   ]
  },
  {
   "cell_type": "code",
   "execution_count": 7,
   "metadata": {},
   "outputs": [],
   "source": [
    "def transform_data(data): \n",
    "    '''\n",
    "    This function transforms the dictionary scraped by get_data function and stores it in a list with only\n",
    "    the useful properties that will be used for analysis or machine learning.\n",
    "    The \"product\" dictionary in the bottom side of the function basically summarizes the data that will be returned.\n",
    "    '''\n",
    "    for item in data['products']:\n",
    "        title = item['title']\n",
    "        handle = item['handle']\n",
    "        created = item['created_at']\n",
    "        updated = item['updated_at']\n",
    "        product_type = item['product_type']\n",
    "        vendor = item['vendor']\n",
    "        for image in item['images']:\n",
    "            try:\n",
    "                imagesrc = image['src']\n",
    "            except:\n",
    "                imagesrc = np.nan\n",
    "        for variant in item['variants']:\n",
    "            price = variant['price']\n",
    "            sku = variant['sku']\n",
    "            available = variant['available']\n",
    "            require_shipping = variant['requires_shipping']\n",
    "            position = variant['position']\n",
    "            try:\n",
    "                compare_at_price = variant['compare_at_price']\n",
    "            except:\n",
    "                compare_at_price = np.nan    \n",
    "\n",
    "            product = {\n",
    "                'title': title,\n",
    "                'handle': handle,\n",
    "                'created': created,\n",
    "                'updated': updated,\n",
    "                'product_type':product_type,\n",
    "                'vendor':vendor,\n",
    "                'price': price,\n",
    "                'compare_at_price': compare_at_price,\n",
    "                'sku': sku,\n",
    "                'available': available,\n",
    "                'image': imagesrc,\n",
    "                'require_shipping': require_shipping,\n",
    "                'position': position\n",
    "            }\n",
    "            product_list.append(product)"
   ]
  },
  {
   "cell_type": "markdown",
   "metadata": {},
   "source": [
    "Saving the scraped that as a dataframe/csv will alow us to push it to the database."
   ]
  },
  {
   "cell_type": "markdown",
   "metadata": {},
   "source": [
    "Using the same engine we defined at the beginning we can push the dataframe to a database with sqlalchemy"
   ]
  },
  {
   "cell_type": "code",
   "execution_count": 8,
   "metadata": {},
   "outputs": [],
   "source": [
    "def load_data(product_list):\n",
    "    '''\n",
    "    Takes the returned list from transform_data, changes some types and loads it to a database.\n",
    "    '''\n",
    "    df = pd.DataFrame(product_list)\n",
    "    df['created'] = pd.to_datetime(df['created'], utc = True)\n",
    "    df['updated'] = pd.to_datetime(df['updated'], utc = True)\n",
    "    df['price'] = pd.to_numeric(df['price'])\n",
    "    df['compare_at_price'] = pd.to_numeric(df['compare_at_price'])\n",
    "    df.to_sql(name='competitor_products',con=engine, index=False, if_exists='replace', method='multi', chunksize=110)"
   ]
  },
  {
   "cell_type": "markdown",
   "metadata": {},
   "source": [
    "Now lets make a little for loop that starts the whole process"
   ]
  },
  {
   "cell_type": "code",
   "execution_count": 9,
   "metadata": {},
   "outputs": [],
   "source": [
    "for i in range(len(urls)):\n",
    "    transform_data(get_data())\n",
    "    time.sleep(1)\n",
    "load_data(product_list)"
   ]
  },
  {
   "cell_type": "markdown",
   "metadata": {},
   "source": [
    "To check everything is alright, we can query into the competitor_products table in the database."
   ]
  },
  {
   "cell_type": "code",
   "execution_count": 10,
   "metadata": {},
   "outputs": [],
   "source": [
    "df = pd.read_sql_table('competitor_products', engine)"
   ]
  },
  {
   "cell_type": "code",
   "execution_count": 12,
   "metadata": {},
   "outputs": [
    {
     "name": "stdout",
     "output_type": "stream",
     "text": [
      "The shape of the table/dataframe is: (8390, 13)\n"
     ]
    }
   ],
   "source": [
    "print(f'The shape of the table/dataframe is: {df.shape}')"
   ]
  }
 ],
 "metadata": {
  "kernelspec": {
   "display_name": "Python 3",
   "language": "python",
   "name": "python3"
  },
  "language_info": {
   "codemirror_mode": {
    "name": "ipython",
    "version": 3
   },
   "file_extension": ".py",
   "mimetype": "text/x-python",
   "name": "python",
   "nbconvert_exporter": "python",
   "pygments_lexer": "ipython3",
   "version": "3.7.7"
  }
 },
 "nbformat": 4,
 "nbformat_minor": 4
}
