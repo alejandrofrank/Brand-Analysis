{
 "cells": [
  {
   "cell_type": "code",
   "execution_count": 1,
   "metadata": {},
   "outputs": [],
   "source": [
    "import requests\n",
    "import json\n",
    "import pandas as pd\n",
    "import numpy as np\n",
    "import time\n",
    "import sqlalchemy\n",
    "from sqlalchemy import create_engine\n",
    "import config\n",
    "import datetime\n",
    "from datetime import datetime\n",
    "\n",
    "import warnings\n",
    "warnings.filterwarnings('ignore')\n",
    "\n",
    "pd.options.display.max_columns = 300\n",
    "pd.options.display.max_rows = 300\n",
    "pd.options.display.max_colwidth = 400"
   ]
  },
  {
   "cell_type": "code",
   "execution_count": 2,
   "metadata": {},
   "outputs": [],
   "source": [
    "urls = ['https://scalperscompany.com',\n",
    "        'https://edmmond.com',\n",
    "        'https://www.bluebananabrand.com/',\n",
    "        'https://www.pompeiibrand.com',\n",
    "        'https://es.muroexe.com',\n",
    "        'https://thebrubaker.com',\n",
    "        'https://laagam.com',\n",
    "        'https://itslava.es',\n",
    "        'https://us.sirthelabel.com',\n",
    "        'https://www.shelfies.com',\n",
    "        'https://www.marcwenn.com',\n",
    "        'https://thehoffbrand.com',\n",
    "        'https://www.taylorstitch.com',\n",
    "        'https://uk.gymshark.com',\n",
    "        'https://www.marcwenn.com',\n",
    "        'https://barnerbrand.com',\n",
    "        'https://mimshoes.com',\n",
    "        'https://www.alohas.io']\n",
    "\n",
    "shopify_products_url = 'products.json?limit=500&page=1'\n",
    "\n",
    "dbtype = config.database_new['dbtype']\n",
    "user = config.database_new['user']\n",
    "password = config.database_new['password']\n",
    "ip = config.database_new['ip']\n",
    "port = config.database_new['port']\n",
    "name = config.database_new['name']\n",
    "\n",
    "engine = create_engine(f'{dbtype}://{user}:{password}@{ip}:{port}/{name}')\n",
    "\n",
    "product_list = []"
   ]
  },
  {
   "cell_type": "code",
   "execution_count": 3,
   "metadata": {},
   "outputs": [],
   "source": [
    "def get_data():\n",
    "    r = requests.get(f'{urls[i]}/{shopify_products_url}')\n",
    "    data = r.json()\n",
    "    return data"
   ]
  },
  {
   "cell_type": "code",
   "execution_count": 4,
   "metadata": {},
   "outputs": [],
   "source": [
    "def transform_data(data):\n",
    "    for item in data['products']:\n",
    "        title = item['title']\n",
    "        handle = item['handle']\n",
    "        created = item['created_at']\n",
    "        updated = item['updated_at']\n",
    "        product_type = item['product_type']\n",
    "        vendor = item['vendor']\n",
    "        for image in item['images']:\n",
    "            try:\n",
    "                imagesrc = image['src']\n",
    "            except:\n",
    "                imagesrc = np.nan\n",
    "        for variant in item['variants']:\n",
    "            price = variant['price']\n",
    "            sku = variant['sku']\n",
    "            available = variant['available']\n",
    "            require_shipping = variant['requires_shipping']\n",
    "            position = variant['position']\n",
    "            try:\n",
    "                compare_at_price = variant['compare_at_price']\n",
    "            except:\n",
    "                compare_at_price = np.nan    \n",
    "\n",
    "            product = {\n",
    "                'title': title,\n",
    "                'handle': handle,\n",
    "                'created': created,\n",
    "                'updated': updated,\n",
    "                'product_type':product_type,\n",
    "                'vendor':vendor,\n",
    "                'price': price,\n",
    "                'compare_at_price': compare_at_price,\n",
    "                'sku': sku,\n",
    "                'available': available,\n",
    "                'image': imagesrc,\n",
    "                'require_shipping': require_shipping,\n",
    "                'position': position\n",
    "            }\n",
    "            product_list.append(product)"
   ]
  },
  {
   "cell_type": "code",
   "execution_count": 5,
   "metadata": {},
   "outputs": [],
   "source": [
    "def load_data(product_list):\n",
    "    df = pd.DataFrame(product_list)\n",
    "    df['created'] = pd.to_datetime(df['created'], utc = True)\n",
    "    df['updated'] = pd.to_datetime(df['updated'], utc = True)\n",
    "    df['price'] = pd.to_numeric(df['price'])\n",
    "    df['compare_at_price'] = pd.to_numeric(df['compare_at_price'])\n",
    "    df['snapshot_date'] =  datetime.now()\n",
    "    df.to_sql(name='competitor_products',con=engine, index=False, if_exists='replace', method='multi', chunksize=110)"
   ]
  },
  {
   "cell_type": "code",
   "execution_count": 6,
   "metadata": {},
   "outputs": [],
   "source": [
    "for i in range(len(urls)):\n",
    "    transform_data(get_data())\n",
    "    time.sleep(1)\n",
    "load_data(product_list)"
   ]
  }
 ],
 "metadata": {
  "kernelspec": {
   "display_name": "Python 3",
   "language": "python",
   "name": "python3"
  },
  "language_info": {
   "codemirror_mode": {
    "name": "ipython",
    "version": 3
   },
   "file_extension": ".py",
   "mimetype": "text/x-python",
   "name": "python",
   "nbconvert_exporter": "python",
   "pygments_lexer": "ipython3",
   "version": "3.7.7"
  }
 },
 "nbformat": 4,
 "nbformat_minor": 4
}
