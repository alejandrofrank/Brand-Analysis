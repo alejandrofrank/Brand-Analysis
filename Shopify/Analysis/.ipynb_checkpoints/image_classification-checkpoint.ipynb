{
 "cells": [
  {
   "cell_type": "markdown",
   "metadata": {},
   "source": [
    "### Imports"
   ]
  },
  {
   "cell_type": "markdown",
   "metadata": {},
   "source": [
    "Since we this will be some sort of EDA of the previously scraped data, we will only be using analysis tools such as pandas, numpy and some visualization tools such as matplotlib and seaborn. "
   ]
  },
  {
   "cell_type": "code",
   "execution_count": 7,
   "metadata": {},
   "outputs": [],
   "source": [
    "import pandas as pd #We will be using pandas to analyze and do data transformation\n",
    "import numpy as np #Useful in almost every project\n",
    "import sqlalchemy #SQL Database connector\n",
    "from sqlalchemy import create_engine\n",
    "import config #Database credentials\n",
    "import datetime as dt\n",
    "\n",
    "import warnings\n",
    "warnings.filterwarnings('ignore') \n",
    "\n",
    "pd.options.display.max_columns = 300\n",
    "pd.options.display.max_rows = 300\n",
    "pd.options.display.max_colwidth = 400"
   ]
  },
  {
   "cell_type": "code",
   "execution_count": 8,
   "metadata": {},
   "outputs": [],
   "source": [
    "dbtype = config.database_new['dbtype']\n",
    "user = config.database_new['user']\n",
    "password = config.database_new['password']\n",
    "ip = config.database_new['ip']\n",
    "port = config.database_new['port']\n",
    "name = config.database_new['name']\n",
    "\n",
    "engine = create_engine(f'{dbtype}://{user}:{password}@{ip}:{port}/{name}')"
   ]
  },
  {
   "cell_type": "markdown",
   "metadata": {},
   "source": [
    "### Thinking before starting to explore"
   ]
  },
  {
   "cell_type": "markdown",
   "metadata": {},
   "source": [
    "What can we do with this data?\n",
    "- We can pretend to be a brand trying to launch a new product and we need to do a market research for us to know the proper price by looking into similar brands. \n",
    "- With the images and product types we can make a clothing article classifier that can be useful for recommendation algorithms later on.\n",
    "- Make an analysis to know which item per shop is the best seller. We can assume that the ecommerce team knows how to optimize sales and by that assumption we can plot compared at price values over time and see which product has the less discounts. \n",
    "- Get color palettes by category or by store. \n",
    "\n",
    "There are probably more things we can do with the shopify data, but lets stick with these points for this EDA. "
   ]
  },
  {
   "cell_type": "code",
   "execution_count": 9,
   "metadata": {},
   "outputs": [],
   "source": [
    "df = pd.read_sql_table('competitor_products', engine)"
   ]
  },
  {
   "cell_type": "code",
   "execution_count": 10,
   "metadata": {},
   "outputs": [
    {
     "name": "stdout",
     "output_type": "stream",
     "text": [
      "The shape of the Dataset is: (9513, 14)\n"
     ]
    }
   ],
   "source": [
    "print(f'The shape of the Dataset is: {df.shape}')"
   ]
  },
  {
   "cell_type": "code",
   "execution_count": 11,
   "metadata": {},
   "outputs": [
    {
     "data": {
      "text/plain": [
       "edmmond.com         1961\n",
       "Pompeii Brand       1221\n",
       "ALOHAS              1214\n",
       "The Brubaker        1075\n",
       "BlueBanana Brand    1063\n",
       "scalperscompany     1027\n",
       "Materia              291\n",
       "Marathon             258\n",
       "Name: vendor, dtype: int64"
      ]
     },
     "execution_count": 11,
     "metadata": {},
     "output_type": "execute_result"
    }
   ],
   "source": [
    "df['vendor'].value_counts().head(8)"
   ]
  },
  {
   "cell_type": "markdown",
   "metadata": {},
   "source": [
    "### Splitting data into dataframes just in case we want to do specific store analysis later on."
   ]
  },
  {
   "cell_type": "code",
   "execution_count": 13,
   "metadata": {
    "scrolled": true
   },
   "outputs": [
    {
     "name": "stdout",
     "output_type": "stream",
     "text": [
      "Scalpers database shape is: (1027, 14)\n",
      "Pompeii´s database shape is: (1271, 14)\n",
      "Edmmond´s database shape is: (1961, 14)\n",
      "The Brubaker´s database shape is: (1175, 14)\n",
      "The Aloha´s database shape is: (1214, 14)\n",
      "The Bluebanana Brand´s database shape is: (1063, 14)\n"
     ]
    }
   ],
   "source": [
    "scalpers_df = df[df['vendor']=='scalperscompany']\n",
    "pompeii_df = df[df['vendor'].str.contains('ompeii')]\n",
    "edmmond_df = df[df['vendor']=='edmmond.com']\n",
    "brubaker_df = df[df['vendor'].str.contains('ruba')]\n",
    "aloha_df = df[df['vendor']=='ALOHAS']\n",
    "bluebanana_df = df[df['vendor']=='BlueBanana Brand']\n",
    "\n",
    "print(f'Scalpers database shape is: {scalpers_df.shape}')\n",
    "print(f'Pompeii´s database shape is: {pompeii_df.shape}')\n",
    "print(f'Edmmond´s database shape is: {edmmond_df.shape}')\n",
    "print(f'The Brubaker´s database shape is: {brubaker_df.shape}')\n",
    "print(f'The Aloha´s database shape is: {aloha_df.shape}')\n",
    "print(f'The Bluebanana Brand´s database shape is: {bluebanana_df.shape}')"
   ]
  },
  {
   "cell_type": "code",
   "execution_count": 11,
   "metadata": {},
   "outputs": [],
   "source": [
    "new = scalpers_df['handle'].str.rsplit('-', n = 3, expand = True) \n",
    "\n",
    "scalpers_df[\"producto\"]= new[0]\n",
    "scalpers_df[\"target\"]= new[1]\n",
    "scalpers_df[\"collection\"] = new[2]\n",
    "scalpers_df[\"color\"] = new[3]"
   ]
  },
  {
   "cell_type": "code",
   "execution_count": 12,
   "metadata": {},
   "outputs": [
    {
     "data": {
      "text/html": [
       "<div>\n",
       "<style scoped>\n",
       "    .dataframe tbody tr th:only-of-type {\n",
       "        vertical-align: middle;\n",
       "    }\n",
       "\n",
       "    .dataframe tbody tr th {\n",
       "        vertical-align: top;\n",
       "    }\n",
       "\n",
       "    .dataframe thead th {\n",
       "        text-align: right;\n",
       "    }\n",
       "</style>\n",
       "<table border=\"1\" class=\"dataframe\">\n",
       "  <thead>\n",
       "    <tr style=\"text-align: right;\">\n",
       "      <th></th>\n",
       "      <th>title</th>\n",
       "      <th>handle</th>\n",
       "      <th>created</th>\n",
       "      <th>updated</th>\n",
       "      <th>product_type</th>\n",
       "      <th>vendor</th>\n",
       "      <th>price</th>\n",
       "      <th>compare_at_price</th>\n",
       "      <th>sku</th>\n",
       "      <th>available</th>\n",
       "      <th>image</th>\n",
       "      <th>require_shipping</th>\n",
       "      <th>position</th>\n",
       "      <th>producto</th>\n",
       "      <th>target</th>\n",
       "      <th>collection</th>\n",
       "      <th>color</th>\n",
       "    </tr>\n",
       "  </thead>\n",
       "  <tbody>\n",
       "    <tr>\n",
       "      <th>0</th>\n",
       "      <td>PUFFY SCARF</td>\n",
       "      <td>26290-puffy-scarf-aw2021-khaki</td>\n",
       "      <td>2020-06-23 14:16:23+00:00</td>\n",
       "      <td>2020-10-22 10:59:47+00:00</td>\n",
       "      <td>Bufanda</td>\n",
       "      <td>scalperscompany</td>\n",
       "      <td>49.9</td>\n",
       "      <td>49.9</td>\n",
       "      <td>8445279010114</td>\n",
       "      <td>True</td>\n",
       "      <td>https://cdn.shopify.com/s/files/1/0015/0942/5197/products/26290-KHAKI-S-1.jpg?v=1603364373</td>\n",
       "      <td>True</td>\n",
       "      <td>1</td>\n",
       "      <td>26290-puffy</td>\n",
       "      <td>scarf</td>\n",
       "      <td>aw2021</td>\n",
       "      <td>khaki</td>\n",
       "    </tr>\n",
       "    <tr>\n",
       "      <th>1</th>\n",
       "      <td>PUFFY SCARF</td>\n",
       "      <td>26290-puffy-scarf-aw2021-burgundy</td>\n",
       "      <td>2020-06-23 14:16:23+00:00</td>\n",
       "      <td>2020-10-22 10:59:20+00:00</td>\n",
       "      <td>Bufanda</td>\n",
       "      <td>scalperscompany</td>\n",
       "      <td>49.9</td>\n",
       "      <td>49.9</td>\n",
       "      <td>8445279010107</td>\n",
       "      <td>True</td>\n",
       "      <td>https://cdn.shopify.com/s/files/1/0015/0942/5197/products/26290-BURGUNDY-S-1.jpg?v=1603364347</td>\n",
       "      <td>True</td>\n",
       "      <td>1</td>\n",
       "      <td>26290-puffy</td>\n",
       "      <td>scarf</td>\n",
       "      <td>aw2021</td>\n",
       "      <td>burgundy</td>\n",
       "    </tr>\n",
       "    <tr>\n",
       "      <th>2</th>\n",
       "      <td>PUFFY SCARF</td>\n",
       "      <td>26290-puffy-scarf-aw2021-black</td>\n",
       "      <td>2020-06-23 14:16:23+00:00</td>\n",
       "      <td>2020-10-22 14:51:47+00:00</td>\n",
       "      <td>Bufanda</td>\n",
       "      <td>scalperscompany</td>\n",
       "      <td>49.9</td>\n",
       "      <td>49.9</td>\n",
       "      <td>8445279010121</td>\n",
       "      <td>True</td>\n",
       "      <td>https://cdn.shopify.com/s/files/1/0015/0942/5197/products/26290-BLACK-S-1.jpg?v=1603364317</td>\n",
       "      <td>True</td>\n",
       "      <td>1</td>\n",
       "      <td>26290-puffy</td>\n",
       "      <td>scarf</td>\n",
       "      <td>aw2021</td>\n",
       "      <td>black</td>\n",
       "    </tr>\n",
       "    <tr>\n",
       "      <th>3</th>\n",
       "      <td>BLAZER BRILLO</td>\n",
       "      <td>26047-shiny-blazer-aw2021-black</td>\n",
       "      <td>2020-06-23 14:15:56+00:00</td>\n",
       "      <td>2020-10-22 11:51:55+00:00</td>\n",
       "      <td>Blazer</td>\n",
       "      <td>scalperscompany</td>\n",
       "      <td>149.0</td>\n",
       "      <td>149.0</td>\n",
       "      <td>8433740165661</td>\n",
       "      <td>True</td>\n",
       "      <td>https://cdn.shopify.com/s/files/1/0015/0942/5197/products/26047-BLACK-S.jpg?v=1599754254</td>\n",
       "      <td>True</td>\n",
       "      <td>1</td>\n",
       "      <td>26047-shiny</td>\n",
       "      <td>blazer</td>\n",
       "      <td>aw2021</td>\n",
       "      <td>black</td>\n",
       "    </tr>\n",
       "    <tr>\n",
       "      <th>4</th>\n",
       "      <td>BLAZER BRILLO</td>\n",
       "      <td>26047-shiny-blazer-aw2021-black</td>\n",
       "      <td>2020-06-23 14:15:56+00:00</td>\n",
       "      <td>2020-10-22 11:51:55+00:00</td>\n",
       "      <td>Blazer</td>\n",
       "      <td>scalperscompany</td>\n",
       "      <td>149.0</td>\n",
       "      <td>149.0</td>\n",
       "      <td>8433740165678</td>\n",
       "      <td>True</td>\n",
       "      <td>https://cdn.shopify.com/s/files/1/0015/0942/5197/products/26047-BLACK-S.jpg?v=1599754254</td>\n",
       "      <td>True</td>\n",
       "      <td>2</td>\n",
       "      <td>26047-shiny</td>\n",
       "      <td>blazer</td>\n",
       "      <td>aw2021</td>\n",
       "      <td>black</td>\n",
       "    </tr>\n",
       "  </tbody>\n",
       "</table>\n",
       "</div>"
      ],
      "text/plain": [
       "           title                             handle                   created  \\\n",
       "0    PUFFY SCARF     26290-puffy-scarf-aw2021-khaki 2020-06-23 14:16:23+00:00   \n",
       "1    PUFFY SCARF  26290-puffy-scarf-aw2021-burgundy 2020-06-23 14:16:23+00:00   \n",
       "2    PUFFY SCARF     26290-puffy-scarf-aw2021-black 2020-06-23 14:16:23+00:00   \n",
       "3  BLAZER BRILLO    26047-shiny-blazer-aw2021-black 2020-06-23 14:15:56+00:00   \n",
       "4  BLAZER BRILLO    26047-shiny-blazer-aw2021-black 2020-06-23 14:15:56+00:00   \n",
       "\n",
       "                    updated product_type           vendor  price  \\\n",
       "0 2020-10-22 10:59:47+00:00      Bufanda  scalperscompany   49.9   \n",
       "1 2020-10-22 10:59:20+00:00      Bufanda  scalperscompany   49.9   \n",
       "2 2020-10-22 14:51:47+00:00      Bufanda  scalperscompany   49.9   \n",
       "3 2020-10-22 11:51:55+00:00       Blazer  scalperscompany  149.0   \n",
       "4 2020-10-22 11:51:55+00:00       Blazer  scalperscompany  149.0   \n",
       "\n",
       "   compare_at_price            sku  available  \\\n",
       "0              49.9  8445279010114       True   \n",
       "1              49.9  8445279010107       True   \n",
       "2              49.9  8445279010121       True   \n",
       "3             149.0  8433740165661       True   \n",
       "4             149.0  8433740165678       True   \n",
       "\n",
       "                                                                                           image  \\\n",
       "0     https://cdn.shopify.com/s/files/1/0015/0942/5197/products/26290-KHAKI-S-1.jpg?v=1603364373   \n",
       "1  https://cdn.shopify.com/s/files/1/0015/0942/5197/products/26290-BURGUNDY-S-1.jpg?v=1603364347   \n",
       "2     https://cdn.shopify.com/s/files/1/0015/0942/5197/products/26290-BLACK-S-1.jpg?v=1603364317   \n",
       "3       https://cdn.shopify.com/s/files/1/0015/0942/5197/products/26047-BLACK-S.jpg?v=1599754254   \n",
       "4       https://cdn.shopify.com/s/files/1/0015/0942/5197/products/26047-BLACK-S.jpg?v=1599754254   \n",
       "\n",
       "   require_shipping  position     producto  target collection     color  \n",
       "0              True         1  26290-puffy   scarf     aw2021     khaki  \n",
       "1              True         1  26290-puffy   scarf     aw2021  burgundy  \n",
       "2              True         1  26290-puffy   scarf     aw2021     black  \n",
       "3              True         1  26047-shiny  blazer     aw2021     black  \n",
       "4              True         2  26047-shiny  blazer     aw2021     black  "
      ]
     },
     "execution_count": 12,
     "metadata": {},
     "output_type": "execute_result"
    }
   ],
   "source": [
    "scalpers_df.head()"
   ]
  },
  {
   "cell_type": "code",
   "execution_count": 14,
   "metadata": {
    "scrolled": true
   },
   "outputs": [],
   "source": [
    "scalpers_item_df = scalpers_df.groupby(['title', 'product_type', 'color']).agg({'position':['min', 'max', 'mean'],\n",
    "                                                                                'price':['max'],\n",
    "                                                                                'compare_at_price':['min', 'mean']}).reset_index()"
   ]
  },
  {
   "cell_type": "code",
   "execution_count": 24,
   "metadata": {},
   "outputs": [],
   "source": [
    "scalpers_items_images = scalpers_df[['title', 'product_type', 'color', 'image']]"
   ]
  },
  {
   "cell_type": "code",
   "execution_count": null,
   "metadata": {},
   "outputs": [],
   "source": [
    "[scalpers_items_images['image'].str.contains('Sin-titulo')]"
   ]
  },
  {
   "cell_type": "code",
   "execution_count": 33,
   "metadata": {
    "scrolled": false
   },
   "outputs": [
    {
     "data": {
      "text/plain": [
       "719                                             https://cdn.shopify.com/s/files/1/0015/0942/5197/products/25274-BURGUNDY-S.jpg?v=1602168095\n",
       "4677                                             https://cdn.shopify.com/s/files/1/0015/0942/5197/products/25575-SKYBLUE-5.jpg?v=1602234710\n",
       "5238                                               https://cdn.shopify.com/s/files/1/0015/0942/5197/products/26221-BLACK-S.jpg?v=1601549398\n",
       "4463                      https://cdn.shopify.com/s/files/1/0015/0942/5197/products/1_bdc845de-8f5a-4af9-ad38-9f9ec5818178.jpg?v=1602851773\n",
       "4434                                                https://cdn.shopify.com/s/files/1/0015/0942/5197/products/23230-NAVY-S.jpg?v=1603119028\n",
       "854                                                https://cdn.shopify.com/s/files/1/0015/0942/5197/products/25816-KHAKI-S.jpg?v=1601459952\n",
       "4406                                                https://cdn.shopify.com/s/files/1/0015/0942/5197/products/25264-NAVY-S.jpg?v=1598344470\n",
       "189     https://cdn.shopify.com/s/files/1/0015/0942/5197/products/25364-GREYMELANGE-3_52afebd2-5054-46e7-affc-3d27474c7159.jpg?v=1602847783\n",
       "4719                                           https://cdn.shopify.com/s/files/1/0015/0942/5197/products/25269-DARKGREEN-3.jpg?v=1602234129\n",
       "5366                                               https://cdn.shopify.com/s/files/1/0015/0942/5197/products/Sin-titulo-41.jpg?v=1600424839\n",
       "4911                                              https://cdn.shopify.com/s/files/1/0015/0942/5197/products/25060-BLACK-10.jpg?v=1602852637\n",
       "997                                                 https://cdn.shopify.com/s/files/1/0015/0942/5197/products/25661-BLUE-S.jpg?v=1601459958\n",
       "4342                                               https://cdn.shopify.com/s/files/1/0015/0942/5197/products/27413-BROWN-4.jpg?v=1603118751\n",
       "454                                             https://cdn.shopify.com/s/files/1/0015/0942/5197/products/25214-OFFWHITE-S.jpg?v=1602168093\n",
       "4644                                             https://cdn.shopify.com/s/files/1/0015/0942/5197/products/23392-DENIM-S-1.jpg?v=1603179530\n",
       "4572          https://cdn.shopify.com/s/files/1/0015/0942/5197/products/25372-TAUPE-2_80c0a62e-2ac9-43f4-809c-6fa49d306c69.jpg?v=1602843527\n",
       "743                                            https://cdn.shopify.com/s/files/1/0015/0942/5197/products/25249-MUSTARD-S-2.jpg?v=1602169866\n",
       "4753                                                https://cdn.shopify.com/s/files/1/0015/0942/5197/products/25673-NAVY-S.jpg?v=1602168099\n",
       "199                                                https://cdn.shopify.com/s/files/1/0015/0942/5197/products/24894-BROWN-S.jpg?v=1598344393\n",
       "633                                                 https://cdn.shopify.com/s/files/1/0015/0942/5197/products/25507-NAVY-S.jpg?v=1602168094\n",
       "Name: image, dtype: object"
      ]
     },
     "execution_count": 33,
     "metadata": {},
     "output_type": "execute_result"
    }
   ],
   "source": [
    "scalpers_items_images['image'].sample(20)"
   ]
  },
  {
   "cell_type": "code",
   "execution_count": null,
   "metadata": {},
   "outputs": [],
   "source": [
    "scalpers_items_images[scalpers_items_images['title']=='ALASKA BT PARKA']['image']"
   ]
  },
  {
   "cell_type": "code",
   "execution_count": null,
   "metadata": {},
   "outputs": [],
   "source": [
    "scalpers_item_df.columns = ['%s%s' % (a, '_%s' % b if b else '') for a, b in scalpers_item_df.columns]"
   ]
  },
  {
   "cell_type": "code",
   "execution_count": null,
   "metadata": {},
   "outputs": [],
   "source": [
    "scalpers_item_df"
   ]
  },
  {
   "cell_type": "code",
   "execution_count": null,
   "metadata": {},
   "outputs": [],
   "source": [
    "scalpers_df.columns"
   ]
  },
  {
   "cell_type": "code",
   "execution_count": null,
   "metadata": {},
   "outputs": [],
   "source": [
    "scalpers_df[scalpers_df['available']==True]['image'].head(8)"
   ]
  },
  {
   "cell_type": "code",
   "execution_count": null,
   "metadata": {},
   "outputs": [],
   "source": [
    "response = requests.get(\"https://cdn.shopify.com/s/files/1/0015/0942/5197/products/25641-KHAKI-S.jpg?v=1603292942\")\n",
    "\n",
    "file = open(\"sample_image.png\", \"wb\")\n",
    "file.write(response.content)\n",
    "file.close()"
   ]
  },
  {
   "cell_type": "code",
   "execution_count": null,
   "metadata": {},
   "outputs": [],
   "source": [
    "scalpers_df['color'].value_counts()"
   ]
  },
  {
   "cell_type": "code",
   "execution_count": null,
   "metadata": {},
   "outputs": [],
   "source": [
    "scalpers_df['collection'].value_counts()"
   ]
  },
  {
   "cell_type": "code",
   "execution_count": null,
   "metadata": {},
   "outputs": [],
   "source": [
    "a[a['collection']=='pant']"
   ]
  },
  {
   "cell_type": "code",
   "execution_count": null,
   "metadata": {},
   "outputs": [],
   "source": [
    "a[a['handle'].str.contains('24879')]['handle'].value_counts().to_frame()"
   ]
  },
  {
   "cell_type": "code",
   "execution_count": null,
   "metadata": {
    "scrolled": true
   },
   "outputs": [],
   "source": [
    "a"
   ]
  },
  {
   "cell_type": "code",
   "execution_count": null,
   "metadata": {},
   "outputs": [],
   "source": [
    "a['other'].value_counts()"
   ]
  },
  {
   "cell_type": "code",
   "execution_count": null,
   "metadata": {
    "scrolled": false
   },
   "outputs": [],
   "source": [
    "a['categoria'].value_counts()"
   ]
  },
  {
   "cell_type": "code",
   "execution_count": null,
   "metadata": {},
   "outputs": [],
   "source": [
    "df['created'] = pd.to_datetime(df['created'], utc = True)\n",
    "df['updated'] = pd.to_datetime(df['updated'], utc = True)"
   ]
  },
  {
   "cell_type": "code",
   "execution_count": null,
   "metadata": {},
   "outputs": [],
   "source": []
  }
 ],
 "metadata": {
  "kernelspec": {
   "display_name": "Python 3",
   "language": "python",
   "name": "python3"
  },
  "language_info": {
   "codemirror_mode": {
    "name": "ipython",
    "version": 3
   },
   "file_extension": ".py",
   "mimetype": "text/x-python",
   "name": "python",
   "nbconvert_exporter": "python",
   "pygments_lexer": "ipython3",
   "version": "3.7.7"
  }
 },
 "nbformat": 4,
 "nbformat_minor": 4
}
